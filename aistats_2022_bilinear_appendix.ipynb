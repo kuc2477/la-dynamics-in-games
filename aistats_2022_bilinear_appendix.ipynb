{
 "cells": [
  {
   "cell_type": "code",
   "execution_count": 1,
   "metadata": {},
   "outputs": [],
   "source": [
    "from itertools import product\n",
    "import matplotlib\n",
    "import matplotlib.patches as mpatches\n",
    "import matplotlib.lines as mlines\n",
    "from matplotlib import pyplot as plt\n",
    "from collections import defaultdict\n",
    "import numpy as np\n",
    "import torch\n",
    "from torch import nn, autograd\n",
    "import optimizers\n",
    "import math\n",
    "from tqdm import tqdm"
   ]
  },
  {
   "cell_type": "markdown",
   "metadata": {},
   "source": [
    "# Configurations"
   ]
  },
  {
   "cell_type": "code",
   "execution_count": 2,
   "metadata": {},
   "outputs": [
    {
     "name": "stdout",
     "output_type": "stream",
     "text": [
      "A conditioning: 56.84369845099666, smax: 2.411884103510685, smin: 0.04243010516970323\n",
      "gd_alt_ro: 1.0\n",
      "gd_sim_ro: 1.0286748024947805\n",
      "pp_sim_ro: 0.9999909985524171\n",
      "eg_sim_ro: 0.9957660293676189\n"
     ]
    }
   ],
   "source": [
    "np.random.seed(0)\n",
    "torch.manual_seed(0)\n",
    "\n",
    "BLUE = '#7DB1F1'\n",
    "RED = '#FC82AB'\n",
    "GREEN = '#7FD97B'\n",
    "YELLOW = '#FFC000'\n",
    "GREY = '#A5A5A5'\n",
    "COLORS = [BLUE, RED, YELLOW, GREEN, GREY]\n",
    "\n",
    "# game settings\n",
    "LR = 0.1\n",
    "N = 2000\n",
    "EPS = 0.02\n",
    "\n",
    "# sample a matrix\n",
    "A = (torch.eye(N, dtype=torch.float64) + EPS * torch.randn(N, N, dtype=torch.float64)).cuda()\n",
    "smax = A.svd()[1][0].cpu().numpy()\n",
    "smin = A.svd()[1][-1].cpu().numpy()\n",
    "sis = A.svd()[1].cpu().numpy()\n",
    "print('A conditioning: {}, smax: {}, smin: {}'.format(smax/smin, smax, smin))\n",
    "#assert np.isclose(smax, 1.47123122215271)\n",
    "#assert np.isclose(smin, 0.5847105979919434)\n",
    "\n",
    "def spow(z, k):\n",
    "    #modulus = abs(z)\n",
    "    #theta = np.angle(z)\n",
    "    #return (modulus ** k) * np.cos(k * theta) + np.sin(k * theta) * 1j\n",
    "    return z ** k\n",
    "\n",
    "def gd_alt_radius(k, alpha):\n",
    "    return abs(1- alpha + alpha * spow(\n",
    "        1 - LR**2 * sis**2 / 2 + LR * sis * np.sqrt(1- LR**2 * sis**2 / 4) * 1j\n",
    "    , k)).max()\n",
    "\n",
    "def gd_sim_radius(k, alpha):\n",
    "    return abs(1 - alpha + alpha * spow(1 + LR * sis * 1j, k)).max()\n",
    "\n",
    "def pp_sim_radius(k, alpha):\n",
    "    return abs(1 - alpha + alpha * spow((1+LR*sis*1j)/(1+LR**2*sis**2), k)).max()\n",
    "\n",
    "def eg_sim_radius(k, alpha):\n",
    "    return abs(1 - alpha + alpha * spow(1- LR*sis + LR*sis*1j, k)).max()\n",
    "\n",
    "gd_alt_ro = gd_alt_radius(1, 1)\n",
    "gd_sim_ro = gd_sim_radius(1, 1)\n",
    "pp_sim_ro = pp_sim_radius(1, 1)\n",
    "eg_sim_ro = eg_sim_radius(1, 1)\n",
    "print(f'gd_alt_ro: {gd_alt_ro}')\n",
    "print(f'gd_sim_ro: {gd_sim_ro}')\n",
    "print(f'pp_sim_ro: {pp_sim_ro}')\n",
    "print(f'eg_sim_ro: {eg_sim_ro}')"
   ]
  },
  {
   "cell_type": "code",
   "execution_count": 3,
   "metadata": {},
   "outputs": [
    {
     "name": "stdout",
     "output_type": "stream",
     "text": [
      "GD_SIM BETAS: (NotImplemented, NotImplemented)\n",
      "PP_SIM BETAS: (1, 1442.94)\n",
      "EG_SIM BETAS: (302.85, 1108.05)\n"
     ]
    }
   ],
   "source": [
    "GD_SIM_BETA1 = NotImplemented\n",
    "GD_SIM_BETA2 = NotImplemented\n",
    "print(f'GD_SIM BETAS: {GD_SIM_BETA1, GD_SIM_BETA2}')\n",
    "\n",
    "PP_SIM_BETA1 = 1\n",
    "PP_SIM_BETA2 = 1442.94\n",
    "print(f'PP_SIM BETAS: {PP_SIM_BETA1, PP_SIM_BETA2}')\n",
    "\n",
    "EG_SIM_BETA1 = 302.85\n",
    "EG_SIM_BETA2 = 1108.05\n",
    "print(f'EG_SIM BETAS: {EG_SIM_BETA1, EG_SIM_BETA2}')\n",
    "\n",
    "C = {\n",
    "    'GD_SIM': lambda k: min(\n",
    "        (2 * np.cos(np.angle(1-spow(1+LR*sis*1j, k))) / abs(1-spow(1+LR*sis*1j, k)))\n",
    "    ),\n",
    "    'PP_SIM': lambda k: max(\n",
    "        (\n",
    "            np.cos(np.angle(1-((1+LR*sis*1j)/(1+LR**2*sis**2))**k)) - \n",
    "            np.sqrt(\n",
    "                1/(1+LR**2*smin**2)**k - \n",
    "                np.sin(np.angle(\n",
    "                    1-spow((1+LR*sis*1j)/(1+LR**2*sis**2), k)\n",
    "                )) ** 2\n",
    "            )\n",
    "        ) /  abs(1-((1+LR*sis*1j)/(1+LR**2*sis**2))**k)\n",
    "    ),\n",
    "    'EG_SIM': lambda k:  max(\n",
    "        (\n",
    "            np.cos(np.angle(1-spow(1-LR*sis+LR*sis*1j, k))) -\n",
    "            np.sqrt(\n",
    "                (1-2*LR*smin+2*LR**2*smin**2)**k -\n",
    "                np.sin(np.angle(\n",
    "                    1-spow(1-LR*sis+LR*sis*1j, k)\n",
    "                )) ** 2\n",
    "            )\n",
    "        ) / abs(1-spow(1-LR*sis+LR*sis*1j, k))\n",
    "    )\n",
    "}"
   ]
  },
  {
   "cell_type": "markdown",
   "metadata": {},
   "source": [
    "# GD_ALT"
   ]
  },
  {
   "cell_type": "code",
   "execution_count": 4,
   "metadata": {},
   "outputs": [
    {
     "name": "stderr",
     "output_type": "stream",
     "text": [
      "<ipython-input-4-1223bcd40c4c>:14: MatplotlibDeprecationWarning: shading='flat' when X and Y have the same dimensions as C is deprecated since 3.3.  Either specify the corners of the quadrilaterals with X and Y, or pass shading='auto', 'nearest' or 'gouraud', or set rcParams['pcolor.shading'].  This will become an error two minor releases later.\n",
      "  plt.pcolormesh(\n"
     ]
    },
    {
     "name": "stdout",
     "output_type": "stream",
     "text": [
      "rmin: 0.9999922925223799, rmax: 0.9999999853028658\n"
     ]
    },
    {
     "data": {
      "image/png": "[encoded data removed]",
      "text/plain": [
       "<Figure size 288x288 with 1 Axes>"
      ]
     },
     "metadata": {
      "needs_background": "light"
     },
     "output_type": "display_data"
    }
   ],
   "source": [
    "GD_ALT_KS = list(range(100, 1600+1, 100))\n",
    "GD_ALT_ALPHAS = list(reversed([x/100 for x in range(5, 95 + 1, 90 // 15)]))\n",
    "GD_ALT_HPS = np.meshgrid(GD_ALT_KS, GD_ALT_ALPHAS)\n",
    "\n",
    "# compute\n",
    "gd_alt_radii = np.array([\n",
    "    gd_alt_radius(k, alpha) for\n",
    "    (k, alpha) in zip(GD_ALT_HPS[0].flatten(), GD_ALT_HPS[1].flatten())\n",
    "]).reshape(GD_ALT_HPS[0].shape)\n",
    "\n",
    "# and plot (matplotlib choses the first color when there is only one value)\n",
    "cmap = matplotlib.colors.ListedColormap([COLORS[0], COLORS[1]])\n",
    "plt.figure(figsize=(4, 4))\n",
    "plt.pcolormesh(\n",
    "    GD_ALT_HPS[0], GD_ALT_HPS[1], gd_alt_radii < 1, \n",
    "    edgecolors='k',\n",
    "    cmap=cmap,\n",
    ")\n",
    "plt.xlabel(r'$k$', fontsize=15)\n",
    "plt.ylabel(r'$\\alpha$', fontsize=15)\n",
    "\n",
    "#\n",
    "handles, labels = plt.gca().get_legend_handles_labels()\n",
    "patch_pos = mpatches.Patch(\n",
    "    color=COLORS[0], \n",
    "    label=r'$\\rho_k(\\alpha)<1$'\n",
    ")\n",
    "patch_neg = mpatches.Patch(\n",
    "    color=COLORS[1],\n",
    "    label=r'$\\rho_k(\\alpha)\\geq1$'\n",
    ")\n",
    "line_suff = mlines.Line2D([0], [0], color=COLORS[3], label='Thm. 6', linewidth=3)\n",
    "\n",
    "handles.append(patch_pos) \n",
    "handles.append(patch_neg) \n",
    "#handles.append(line_suff)\n",
    "\n",
    "# plot the legend\n",
    "plt.legend(\n",
    "    handles=handles, loc='upper center', \n",
    "    bbox_to_anchor=(-0.01, 1.20, 1.0, 0), \n",
    "    ncol=2, fontsize=15, columnspacing=1,\n",
    ")\n",
    "plt.tight_layout(pad=0.1)\n",
    "plt.savefig('./appendix_bilinear_sweep_gd_alt.png', format='png', dpi=200)\n",
    "print(f'rmin: {gd_alt_radii.min()}, rmax: {gd_alt_radii.max()}')"
   ]
  },
  {
   "cell_type": "markdown",
   "metadata": {},
   "source": [
    "# GD_SIM"
   ]
  },
  {
   "cell_type": "code",
   "execution_count": 5,
   "metadata": {},
   "outputs": [
    {
     "name": "stderr",
     "output_type": "stream",
     "text": [
      "<ipython-input-5-07b302e35f6a>:14: MatplotlibDeprecationWarning: shading='flat' when X and Y have the same dimensions as C is deprecated since 3.3.  Either specify the corners of the quadrilaterals with X and Y, or pass shading='auto', 'nearest' or 'gouraud', or set rcParams['pcolor.shading'].  This will become an error two minor releases later.\n",
      "  plt.pcolormesh(\n"
     ]
    },
    {
     "name": "stdout",
     "output_type": "stream",
     "text": [
      "beta1: NotImplemented, beta2: NotImplemented\n",
      "=> c: [-9.167601066241621, -19.054825769768552, -26.454835698453618, -25.6389098887009, -17.792162780586747, -43.8122430356684, -16.711110760040402, -32.30715769415536, -20.716670632867, -26.03239553710036, -12.701939555977587, -21.41439760567087, -13.035582644728803, -13.625387034331638, -7.378518304550527, -15.670372870013587]\n",
      "=> a: [0.95, 0.89, 0.83, 0.77, 0.71, 0.65, 0.59, 0.53, 0.47, 0.41, 0.35, 0.29, 0.23, 0.17, 0.11, 0.05]\n",
      "=> k: [100, 200, 300, 400, 500, 600, 700, 800, 900, 1000, 1100, 1200, 1300, 1400, 1500, 1600]\n"
     ]
    },
    {
     "data": {
      "image/png": "[encoded data removed]",
      "text/plain": [
       "<Figure size 288x288 with 1 Axes>"
      ]
     },
     "metadata": {
      "needs_background": "light"
     },
     "output_type": "display_data"
    }
   ],
   "source": [
    "GD_SIM_KS = list(range(100, 1600+1, 100))\n",
    "GD_SIM_ALPHAS = list(reversed([x/100 for x in range(5, 95 + 1, 90 // 15)]))\n",
    "GD_SIM_HPS = np.meshgrid(GD_SIM_KS, GD_SIM_ALPHAS)\n",
    "\n",
    "gd_sim_improvements = np.array([\n",
    "    1 > gd_sim_radius(k, alpha) for\n",
    "    (k, alpha) in zip(GD_SIM_HPS[0].flatten(), GD_SIM_HPS[1].flatten())\n",
    "]).reshape(GD_SIM_HPS[0].shape)\n",
    "gd_sim_cs = [C['GD_SIM'](k) for k in GD_SIM_KS]\n",
    "\n",
    "edge_colors = [ ]\n",
    "cmap = matplotlib.colors.ListedColormap([COLORS[1], COLORS[0]])\n",
    "plt.figure(figsize=(4, 4))\n",
    "plt.pcolormesh(\n",
    "    GD_SIM_HPS[0], GD_SIM_HPS[1], gd_sim_improvements, \n",
    "    edgecolors='k',\n",
    "    cmap=cmap,\n",
    ")\n",
    "plt.xlabel(r'$k$', fontsize=15)\n",
    "plt.ylabel(r'$\\alpha$', fontsize=15)\n",
    "\n",
    "# where some data has already been plotted to ax\n",
    "handles, labels = plt.gca().get_legend_handles_labels()\n",
    "\n",
    "# manually define a new patch \n",
    "patch_pos = mpatches.Patch(\n",
    "    color=COLORS[0], \n",
    "    label=r'$\\rho_k(\\alpha)<1$'\n",
    ")\n",
    "patch_neg = mpatches.Patch(\n",
    "    color=COLORS[1],\n",
    "    label=r'$\\rho_k(\\alpha)\\geq1$'\n",
    ")\n",
    "line_suff = mlines.Line2D([0], [0], color=COLORS[3], label='Thm. 7', linewidth=3)\n",
    "\n",
    "# handles is a list, so append manual patch\n",
    "handles.append(patch_pos) \n",
    "handles.append(patch_neg) \n",
    "#handles.append(line_suff)\n",
    "\n",
    "# plot the legend\n",
    "plt.legend(\n",
    "    handles=handles, loc='upper center', \n",
    "    bbox_to_anchor=(-0.01, 1.20, 1.0, 0), \n",
    "    ncol=2, fontsize=15, columnspacing=1,\n",
    ")\n",
    "plt.tight_layout(pad=0.1)\n",
    "plt.savefig('./appendix_bilinear_sweep_gd_sim.png', format='png', dpi=200)\n",
    "print(f'beta1: {GD_SIM_BETA1}, beta2: {GD_SIM_BETA2}')\n",
    "print(f'=> c: {gd_sim_cs}')\n",
    "print(f'=> a: {GD_SIM_ALPHAS}')\n",
    "print(f'=> k: {GD_SIM_KS}')"
   ]
  },
  {
   "cell_type": "markdown",
   "metadata": {},
   "source": [
    "# PP_SIM"
   ]
  },
  {
   "cell_type": "code",
   "execution_count": 6,
   "metadata": {},
   "outputs": [
    {
     "name": "stderr",
     "output_type": "stream",
     "text": [
      "<ipython-input-6-4ccfca83832a>:16: MatplotlibDeprecationWarning: shading='flat' when X and Y have the same dimensions as C is deprecated since 3.3.  Either specify the corners of the quadrilaterals with X and Y, or pass shading='auto', 'nearest' or 'gouraud', or set rcParams['pcolor.shading'].  This will become an error two minor releases later.\n",
      "  plt.pcolormesh(\n"
     ]
    },
    {
     "name": "stdout",
     "output_type": "stream",
     "text": [
      "=> beta1: 1, beta2: 1442.94\n",
      "=> c: [0.010151369948112766, 0.019224770081775915, 0.04234457171036561, 0.07458936960586511, 0.11450785298575601, 0.16463231363665964, 0.20624783744029823, 0.28809996792652, 0.3603995288679389, 0.45646732863671546, 0.28542389023560144, 0.17740184977262924, 0.2698451422576633, 0.5968089322743371, 1.0000000000087204, 0.2871426052573336]\n",
      "=> a: [0.95, 0.89, 0.83, 0.77, 0.71, 0.65, 0.59, 0.53, 0.47, 0.41, 0.35, 0.29, 0.23, 0.17, 0.11, 0.05]\n",
      "=> k: [100, 200, 300, 400, 500, 600, 700, 800, 900, 1000, 1100, 1200, 1300, 1400, 1500, 1600]\n"
     ]
    },
    {
     "data": {
      "image/png": "[encoded data removed]",
      "text/plain": [
       "<Figure size 288x288 with 1 Axes>"
      ]
     },
     "metadata": {
      "needs_background": "light"
     },
     "output_type": "display_data"
    }
   ],
   "source": [
    "PP_SIM_KS = list(range(100, 1600 + 1, 100))\n",
    "PP_SIM_ALPHAS = list(reversed([x/1000 for x in range(50, 950 + 1, 900 // 15)]))\n",
    "PP_SIM_HPS = np.meshgrid(PP_SIM_KS, PP_SIM_ALPHAS)\n",
    "\n",
    "# compute\n",
    "pp_sim_improvements = np.array([\n",
    "    pp_sim_radius(k, 1) > pp_sim_radius(k, alpha) for\n",
    "    (k, alpha) in zip(PP_SIM_HPS[0].flatten(), PP_SIM_HPS[1].flatten())\n",
    "]).reshape(PP_SIM_HPS[0].shape)\n",
    "pp_sim_cs = [C['PP_SIM'](k) for k in PP_SIM_KS]\n",
    "\n",
    "# and plot\n",
    "edge_colors = [ ]\n",
    "cmap = matplotlib.colors.ListedColormap([COLORS[1], COLORS[0]])\n",
    "plt.figure(figsize=(4, 4))\n",
    "plt.pcolormesh(\n",
    "    PP_SIM_HPS[0], PP_SIM_HPS[1], pp_sim_improvements, \n",
    "    edgecolors='k',\n",
    "    cmap=cmap,\n",
    ")\n",
    "plt.xlabel(r'$k$', fontsize=15)\n",
    "plt.ylabel(r'$\\alpha$', fontsize=15)\n",
    "\n",
    "# where some data has already been plotted to ax\n",
    "handles, labels = plt.gca().get_legend_handles_labels()\n",
    "\n",
    "# manually define a new patch \n",
    "patch_pos = mpatches.Patch(\n",
    "    color=COLORS[0], \n",
    "    label=r'$\\rho_k(\\alpha)<\\rho_0^k$'\n",
    ")\n",
    "patch_neg = mpatches.Patch(\n",
    "    color=COLORS[1],\n",
    "    label=r'$\\rho_k(\\alpha)\\geq\\rho_0^k$'\n",
    ")\n",
    "line_suff = mlines.Line2D([0], [0], color=COLORS[3], label='Thm. 8', linewidth=3)\n",
    "\n",
    "# handles is a list, so append manual patch\n",
    "handles.append(patch_pos) \n",
    "handles.append(patch_neg) \n",
    "#handles.append(line_suff)\n",
    "\n",
    "# plot the legend\n",
    "plt.legend(\n",
    "    handles=handles, loc='upper center', \n",
    "    bbox_to_anchor=(-0.01, 1.20, 1.0, 0), \n",
    "    ncol=2, fontsize=15, columnspacing=1,\n",
    ")\n",
    "plt.tight_layout(pad=0.1)\n",
    "plt.savefig('./appendix_bilinear_sweep_pp.png', format='png', dpi=200)\n",
    "print(f'=> beta1: {PP_SIM_BETA1}, beta2: {PP_SIM_BETA2}')\n",
    "print(f'=> c: {pp_sim_cs}')\n",
    "print(f'=> a: {PP_SIM_ALPHAS}')\n",
    "print(f'=> k: {PP_SIM_KS}')"
   ]
  },
  {
   "cell_type": "markdown",
   "metadata": {},
   "source": [
    "# EG_SIM"
   ]
  },
  {
   "cell_type": "code",
   "execution_count": 7,
   "metadata": {},
   "outputs": [
    {
     "name": "stderr",
     "output_type": "stream",
     "text": [
      "<ipython-input-7-988d43b3e30c>:16: MatplotlibDeprecationWarning: shading='flat' when X and Y have the same dimensions as C is deprecated since 3.3.  Either specify the corners of the quadrilaterals with X and Y, or pass shading='auto', 'nearest' or 'gouraud', or set rcParams['pcolor.shading'].  This will become an error two minor releases later.\n",
      "  plt.pcolormesh(\n"
     ]
    },
    {
     "name": "stdout",
     "output_type": "stream",
     "text": [
      "beta1: 302.85, beta2: 1108.05\n",
      "=> c: [1.000000000000013, 1.000000000000019, 1.000000000000512, 0.8928844494936307, 0.8828818064263897, 0.9244532574526567, 0.9516627640321379, 0.96950324282167, 0.9812091262660984, 0.9888440352812601, 0.9993497719358084, 1.000000000000001, 1.0000000000000004, 1.0000000000000002, 1.0, 1.0]\n",
      "=> a: [0.95, 0.94, 0.93, 0.92, 0.91, 0.9, 0.89, 0.88, 0.87, 0.86, 0.85, 0.84, 0.83, 0.82, 0.81, 0.8]\n",
      "=> k: [100, 200, 300, 400, 500, 600, 700, 800, 900, 1000, 1100, 1200, 1300, 1400, 1500, 1600]\n"
     ]
    },
    {
     "data": {
      "image/png": "[encoded data removed]",
      "text/plain": [
       "<Figure size 288x288 with 1 Axes>"
      ]
     },
     "metadata": {
      "needs_background": "light"
     },
     "output_type": "display_data"
    }
   ],
   "source": [
    "EG_SIM_KS = list(range(100, 1600 + 1, 100))\n",
    "EG_SIM_ALPHAS = list(reversed([x/1000 for x in range(800, 950 + 1, 150 // 15)]))\n",
    "EG_SIM_HPS = np.meshgrid(EG_SIM_KS, EG_SIM_ALPHAS)\n",
    "\n",
    "# compute\n",
    "eg_sim_improvements = np.array([\n",
    "    eg_sim_radius(k, 1) > eg_sim_radius(k, alpha) for\n",
    "    (k, alpha) in zip(EG_SIM_HPS[0].flatten(), EG_SIM_HPS[1].flatten())\n",
    "]).reshape(EG_SIM_HPS[0].shape)\n",
    "eg_sim_cs = [C['EG_SIM'](k) for k in EG_SIM_KS]\n",
    "\n",
    "# plot\n",
    "edge_colors = [ ]\n",
    "cmap = matplotlib.colors.ListedColormap([COLORS[1], COLORS[0]])\n",
    "plt.figure(figsize=(4, 4))\n",
    "plt.pcolormesh(\n",
    "    EG_SIM_HPS[0], EG_SIM_HPS[1], eg_sim_improvements, \n",
    "    edgecolors='k',\n",
    "    cmap=cmap,\n",
    ")\n",
    "plt.xlabel(r'$k$', fontsize=15)\n",
    "plt.ylabel(r'$\\alpha$', fontsize=15)\n",
    "\n",
    "# where some data has already been plotted to ax\n",
    "handles, labels = plt.gca().get_legend_handles_labels()\n",
    "\n",
    "# manually define a new patch \n",
    "patch_pos = mpatches.Patch(\n",
    "    color=COLORS[0], \n",
    "    label=r'$\\rho_k(\\alpha)<\\rho_0^k$'\n",
    ")\n",
    "patch_neg = mpatches.Patch(\n",
    "    color=COLORS[1],\n",
    "    label=r'$\\rho_k(\\alpha)\\geq\\rho_0^k$'\n",
    ")\n",
    "line_suff = mlines.Line2D([0], [0], color=COLORS[3], label='Thm. 9', linewidth=3)\n",
    "\n",
    "# handles is a list, so append manual patch\n",
    "handles.append(patch_pos) \n",
    "handles.append(patch_neg) \n",
    "#handles.append(line_suff)\n",
    "\n",
    "# plot the legend\n",
    "plt.legend(\n",
    "    handles=handles, loc='upper center', \n",
    "    bbox_to_anchor=(-0.01, 1.20, 1.0, 0), \n",
    "    ncol=2, fontsize=15, columnspacing=1\n",
    ")\n",
    "plt.tight_layout(pad=0.1)\n",
    "plt.savefig('appendix_bilinear_sweep_eg.png', format='png', dpi=200)\n",
    "print(f'beta1: {EG_SIM_BETA1}, beta2: {EG_SIM_BETA2}')\n",
    "print(f'=> c: {eg_sim_cs}')\n",
    "print(f'=> a: {EG_SIM_ALPHAS}')\n",
    "print(f'=> k: {EG_SIM_KS}')"
   ]
  },
  {
   "cell_type": "markdown",
   "metadata": {},
   "source": [
    "# Optimization"
   ]
  },
  {
   "cell_type": "code",
   "execution_count": 8,
   "metadata": {},
   "outputs": [],
   "source": [
    "np.random.seed(0)\n",
    "torch.manual_seed(0)\n",
    "x1_init = torch.randn(N, dtype=torch.double).cuda() * 10\n",
    "x2_init = torch.randn(N, dtype=torch.double).cuda() * 10\n",
    "\n",
    "def loss(x1, A, x2):\n",
    "    return A.matmul(x1).dot(x2)\n",
    "\n",
    "def distance(x1, x2):\n",
    "    return ((x1.detach() ** 2).sum() + (x2.detach() ** 2).sum()).sqrt()\n",
    "\n",
    "def run(opt_name, lr, k=None, alpha=None, alt=False, src='slow', dst='fast', log_every=500, niter=50000, momentum=0, eg_eta=None):\n",
    "    x1 = nn.Parameter(x1_init.clone().cuda(), requires_grad=True)\n",
    "    x2 = nn.Parameter(x2_init.clone().cuda(), requires_grad=True)\n",
    "    x_avg = torch.cat([x1, x2])\n",
    "    kwargs = {'lr': lr, 'momentum': momentum}\n",
    "    if opt_name == 'ExtraSGD':\n",
    "        kwargs['eta'] = eg_eta\n",
    "    x1_optimizer = getattr(optimizers, opt_name)([x1], **kwargs)\n",
    "    x2_optimizer = getattr(optimizers, opt_name)([x2], **kwargs)\n",
    "    la = (\n",
    "        optimizers.Lookahead(\n",
    "            x1_optimizer, \n",
    "            x2_optimizer, \n",
    "            src=src,\n",
    "            dst=dst,\n",
    "            k=k, alpha=alpha,  \n",
    "            device='cuda'\n",
    "        ) if k and alpha is not None else None\n",
    "    )\n",
    "    \n",
    "    aa_count = 0\n",
    "    aa_residues = []\n",
    "    last_history = []\n",
    "    avg_history = []\n",
    "    for t in tqdm(range(1, niter + 1)):\n",
    "        if t % log_every == 1:\n",
    "            last_history.append(distance(x1, x2).detach().cpu().numpy())\n",
    "            avg_history.append(x_avg.norm(p=2).detach().cpu().numpy())\n",
    "            \n",
    "        if alt:\n",
    "            # x1\n",
    "            x1_optimizer.zero_grad()\n",
    "            (loss(x1, A, x2)).backward()\n",
    "            x1_optimizer.step()\n",
    "            # x2\n",
    "            x2_optimizer.zero_grad()\n",
    "            (-loss(x1, A, x2)).backward()\n",
    "            x2_optimizer.step()\n",
    "        else:\n",
    "            x1_prev = x1.clone()\n",
    "            x2_prev = x2.clone()\n",
    "            \n",
    "            x1_optimizer.zero_grad()\n",
    "            x2_optimizer.zero_grad()\n",
    "            loss(x1, A, x2.detach()).backward()\n",
    "            (-loss(x1.detach(), A, x2)).backward()\n",
    "            if opt_name == 'ExtraSGD':\n",
    "                x1_optimizer.extrapolation()\n",
    "                x2_optimizer.extrapolation()\n",
    "                x1_optimizer.zero_grad()\n",
    "                x2_optimizer.zero_grad()\n",
    "                loss(x1, A, x2.detach()).backward()\n",
    "                (-loss(x1.detach(), A, x2)).backward()\n",
    "            x1_optimizer.step()\n",
    "            x2_optimizer.step()\n",
    "        \n",
    "        if la:\n",
    "            la.step()\n",
    "            \n",
    "        with torch.no_grad():\n",
    "            x_avg = x_avg * t/(t+1) + torch.cat([x1, x2]) / (t+1)\n",
    "    return np.array(last_history), np.array(avg_history)"
   ]
  },
  {
   "cell_type": "markdown",
   "metadata": {},
   "source": [
    "# GD_ALT + (NM) Optimization"
   ]
  },
  {
   "cell_type": "code",
   "execution_count": null,
   "metadata": {},
   "outputs": [
    {
     "name": "stderr",
     "output_type": "stream",
     "text": [
      "  0%|          | 0/50000 [00:00<?, ?it/s]/home_namjune/junsoo.ha/aistats-supp/optimizers/gd.py:106: UserWarning: This overload of add_ is deprecated:\n",
      "\tadd_(Number alpha, Tensor other)\n",
      "Consider using one of the following signatures instead:\n",
      "\tadd_(Tensor other, *, Number alpha) (Triggered internally at  /opt/conda/conda-bld/pytorch_1623448238472/work/torch/csrc/utils/python_arg_parser.cpp:1025.)\n",
      "  p.data.add_(-group['lr'], d_p)\n",
      " 83%|████████▎ | 41251/50000 [00:57<00:09, 930.44it/s] "
     ]
    }
   ],
   "source": [
    "T = 50000\n",
    "LR = 0.1\n",
    "OPT = 'SGD'\n",
    "ALT = True\n",
    "K = 500\n",
    "ALPHA = 0.25\n",
    "NM = -0.5\n",
    "\n",
    "nm_gd_alt_history, _ = run(OPT, lr=LR, alt=ALT, log_every=K, niter=T, momentum=NM)\n",
    "gd_alt_history, _ = run(OPT, lr=LR, alt=ALT, log_every=K, niter=T)\n",
    "la_gd_alt_history, _ = run(OPT, lr=LR, k=K, alpha=ALPHA, alt=ALT, log_every=K, niter=T)\n",
    "la_nm_gd_alt_history, _ = run(OPT, lr=LR, k=K,  alpha=ALPHA, alt=ALT, log_every=K, niter=T, momentum=NM)"
   ]
  },
  {
   "cell_type": "code",
   "execution_count": null,
   "metadata": {
    "scrolled": true
   },
   "outputs": [],
   "source": [
    "plt.figure(figsize=(6, 4.5))\n",
    "\n",
    "LINEWIDTH = 6\n",
    "\n",
    "# custom x-axis ticker\n",
    "matplotlib.pyplot.gca().xaxis.set_major_formatter(matplotlib.ticker.FuncFormatter(\n",
    "    lambda x, pos: f'{int(x // 1e3)}k' if x >= 1e3 else x\n",
    "))\n",
    "\n",
    "plt.plot(\n",
    "    np.arange(1, T+1, step=K), gd_alt_history, \n",
    "    label=r'GD$_{Alt}$', \n",
    "    color=RED,\n",
    "    linewidth=LINEWIDTH,\n",
    ")\n",
    "plt.plot(\n",
    "    np.arange(1, T+1, step=K), nm_gd_alt_history, \n",
    "    label=r'GD$^{NM}_{Alt}$', \n",
    "    color=YELLOW,\n",
    "    linewidth=LINEWIDTH,\n",
    ")\n",
    "plt.plot(\n",
    "    np.arange(1, T+1, step=K), la_gd_alt_history, \n",
    "    label=r'LA-GD$_{Alt}$', \n",
    "    color=BLUE,\n",
    "    linewidth=LINEWIDTH,\n",
    ")\n",
    "plt.plot(\n",
    "    np.arange(1, T+1, step=K), la_nm_gd_alt_history, \n",
    "    label=r'LA-GD$^{NM}_{Alt}$', \n",
    "    color=GREEN,\n",
    "    linewidth=LINEWIDTH,\n",
    ")\n",
    "plt.semilogy()\n",
    "plt.xlabel('# of base dynamics steps', fontsize=20)\n",
    "plt.ylabel('Distance to NE', fontsize=20)\n",
    "plt.xticks(fontsize=16)\n",
    "plt.yticks(fontsize=16)\n",
    "plt.legend(loc='upper right', ncol=2, fontsize=19, bbox_to_anchor=(1.015, 0.955), framealpha=0.7)\n",
    "plt.tight_layout()\n",
    "plt.savefig('appendix_bilinear_gd_progress.png', format='png', bbox_inches='tight', dpi=300)"
   ]
  },
  {
   "cell_type": "markdown",
   "metadata": {},
   "source": [
    "# EG_SIM Optimization"
   ]
  },
  {
   "cell_type": "code",
   "execution_count": null,
   "metadata": {
    "scrolled": false
   },
   "outputs": [],
   "source": [
    "T = 50000\n",
    "LR = 0.1\n",
    "OPT = 'ExtraSGD'\n",
    "ALT = False\n",
    "K = 500\n",
    "GOOD_ALPHA = 0.9\n",
    "BAD_ALPHA = 0.1\n",
    "\n",
    "good_la_eg_sim_history, _ = run(OPT, LR, K, GOOD_ALPHA, alt=ALT, log_every=K, niter=T)\n",
    "bad_la_eg_sim_history, _ = run(OPT, LR, K, BAD_ALPHA, alt=ALT, log_every=K, niter=T)\n",
    "base_eg_sim_history, _ = run(OPT, LR, alt=ALT, log_every=K, niter=T)"
   ]
  },
  {
   "cell_type": "code",
   "execution_count": null,
   "metadata": {},
   "outputs": [],
   "source": [
    "plt.figure(figsize=(6, 4.5))\n",
    "\n",
    "LINEWIDTH = 6\n",
    "\n",
    "# custom x-axis ticker\n",
    "matplotlib.pyplot.gca().xaxis.set_major_formatter(matplotlib.ticker.FuncFormatter(\n",
    "    lambda x, pos: f'{int(x // 1e3)}k' if x >= 1e3 else x\n",
    "))\n",
    "\n",
    "plt.plot(\n",
    "    np.arange(1, T+1, step=K), base_eg_sim_history, \n",
    "    label=r'EG$_{Sim}$', \n",
    "    color=YELLOW,\n",
    "    linewidth=LINEWIDTH\n",
    ")\n",
    "plt.plot(\n",
    "    np.arange(1, T+1, step=K), bad_la_eg_sim_history, \n",
    "    label=r'LA-EG$_{Sim}^{\\dagger}$', \n",
    "    color=RED,\n",
    "    linewidth=LINEWIDTH\n",
    ")\n",
    "plt.plot(\n",
    "    np.arange(1, T+1, step=K), good_la_eg_sim_history, \n",
    "    label=r'LA-EG$_{Sim}^*$', \n",
    "    color=BLUE,\n",
    "    linewidth=LINEWIDTH\n",
    ")\n",
    "\n",
    "plt.semilogy()\n",
    "plt.xlabel('# of base dynamics steps', fontsize=20)\n",
    "plt.ylabel('Distance to NE', fontsize=20)\n",
    "plt.xticks(fontsize=16)\n",
    "plt.yticks(fontsize=16)\n",
    "plt.legend(loc='upper right', ncol=1, fontsize=19, bbox_to_anchor=(1.015, 1.015))\n",
    "plt.tight_layout()\n",
    "plt.savefig('appendix_bilinear_eg_progress.png', format='png', bbox_inches='tight', dpi=300)"
   ]
  }
 ],
 "metadata": {
  "kernelspec": {
   "display_name": "Python 3",
   "language": "python",
   "name": "python3"
  },
  "language_info": {
   "codemirror_mode": {
    "name": "ipython",
    "version": 3
   },
   "file_extension": ".py",
   "mimetype": "text/x-python",
   "name": "python",
   "nbconvert_exporter": "python",
   "pygments_lexer": "ipython3",
   "version": "3.9.5"
  }
 },
 "nbformat": 4,
 "nbformat_minor": 4
}
