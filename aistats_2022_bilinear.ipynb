{
 "cells": [
  {
   "cell_type": "code",
   "execution_count": 1,
   "metadata": {},
   "outputs": [
    {
     "data": {
      "text/plain": [
       "<torch._C.Generator at 0x7f5c88604eb0>"
      ]
     },
     "execution_count": 1,
     "metadata": {},
     "output_type": "execute_result"
    }
   ],
   "source": [
    "from itertools import product\n",
    "import matplotlib\n",
    "import matplotlib.patches as mpatches\n",
    "import matplotlib.lines as mlines\n",
    "from matplotlib import pyplot as plt\n",
    "from collections import defaultdict\n",
    "import numpy as np\n",
    "import torch\n",
    "from torch import nn, autograd\n",
    "import optimizers\n",
    "import math\n",
    "from tqdm import tqdm\n",
    "np.random.seed(0)\n",
    "torch.manual_seed(0)"
   ]
  },
  {
   "cell_type": "markdown",
   "metadata": {},
   "source": [
    "# Configurations"
   ]
  },
  {
   "cell_type": "code",
   "execution_count": 2,
   "metadata": {},
   "outputs": [
    {
     "name": "stdout",
     "output_type": "stream",
     "text": [
      "A conditioning: 2.5051719389033593, smax: 1.4629746556141772, smin: 0.583981735103817\n",
      "gd_alt_ro: 1.0\n",
      "gd_sim_ro: 1.010644818138249\n",
      "pp_sim_ro: 0.998299175731378\n",
      "eg_sim_ro: 0.9434110166401143\n"
     ]
    }
   ],
   "source": [
    "COLORS = ['#7DB1F1', '#FC82AB', '#7FD97B', '#FFC000', '#000000']\n",
    "\n",
    "# game settings\n",
    "LR = 0.1\n",
    "N = 1000\n",
    "EPS = 0.01\n",
    "\n",
    "# sample a matrix\n",
    "A = (torch.eye(N, dtype=torch.float64) + EPS * torch.randn(N, N, dtype=torch.float64)).cuda()\n",
    "smax = A.svd()[1][0].cpu().numpy()\n",
    "smin = A.svd()[1][-1].cpu().numpy()\n",
    "sis = A.svd()[1].cpu().numpy()\n",
    "print('A conditioning: {}, smax: {}, smin: {}'.format(smax/smin, smax, smin))\n",
    "\n",
    "\n",
    "def spow(z, k):\n",
    "    return z ** k\n",
    "\n",
    "def gd_alt_radius(k, alpha):\n",
    "    return abs(1- alpha + alpha * spow(\n",
    "        1 - LR**2 * sis**2 / 2 + LR * sis * np.sqrt(1- LR**2 * sis**2 / 4) * 1j\n",
    "    , k)).max()\n",
    "\n",
    "\n",
    "def gd_sim_radius(k, alpha):\n",
    "    return abs(1 - alpha + alpha * spow(1 + LR * sis * 1j, k)).max()\n",
    "\n",
    "\n",
    "def pp_sim_radius(k, alpha):\n",
    "    return abs(1 - alpha + alpha * spow((1+LR*sis*1j)/(1+LR**2*sis**2), k)).max()\n",
    "\n",
    "\n",
    "def eg_sim_radius(k, alpha):\n",
    "    return abs(1 - alpha + alpha * spow(1- LR*sis + LR*sis*1j, k)).max()\n",
    "\n",
    "\n",
    "gd_alt_ro = gd_alt_radius(1, 1)\n",
    "gd_sim_ro = gd_sim_radius(1, 1)\n",
    "pp_sim_ro = pp_sim_radius(1, 1)\n",
    "eg_sim_ro = eg_sim_radius(1, 1)\n",
    "print(f'gd_alt_ro: {gd_alt_ro}')\n",
    "print(f'gd_sim_ro: {gd_sim_ro}')\n",
    "print(f'pp_sim_ro: {pp_sim_ro}')\n",
    "print(f'eg_sim_ro: {eg_sim_ro}')"
   ]
  },
  {
   "cell_type": "code",
   "execution_count": 3,
   "metadata": {},
   "outputs": [
    {
     "name": "stdout",
     "output_type": "stream",
     "text": [
      "GD_SIM BETAS: (6.09, 37.514)\n",
      "PP_SIM BETAS: (1, 97.95)\n",
      "EG_SIM BETAS: (20.31, 76.16)\n"
     ]
    }
   ],
   "source": [
    "GD_SIM_BETA1 = 6.09\n",
    "GD_SIM_BETA2 = 37.514\n",
    "print(f'GD_SIM BETAS: {GD_SIM_BETA1, GD_SIM_BETA2}')\n",
    "\n",
    "PP_SIM_BETA1 = 1\n",
    "PP_SIM_BETA2 = 97.95\n",
    "print(f'PP_SIM BETAS: {PP_SIM_BETA1, PP_SIM_BETA2}')\n",
    "\n",
    "EG_SIM_BETA1 = 20.31\n",
    "EG_SIM_BETA2 = 76.16\n",
    "print(f'EG_SIM BETAS: {EG_SIM_BETA1, EG_SIM_BETA2}')\n",
    "\n",
    "C = {\n",
    "    'GD_SIM': lambda k: min(\n",
    "        (2 * np.cos(np.angle(1-spow(1+LR*sis*1j, k))) / abs(1-spow(1+LR*sis*1j, k)))\n",
    "    ),\n",
    "    'PP_SIM': lambda k: max(\n",
    "        (\n",
    "            np.cos(np.angle(1-((1+LR*sis*1j)/(1+LR**2*sis**2))**k)) - \n",
    "            np.sqrt(\n",
    "                1/(1+LR**2*smin**2)**k - \n",
    "                np.sin(np.angle(\n",
    "                    1-spow((1+LR*sis*1j)/(1+LR**2*sis**2), k)\n",
    "                )) ** 2\n",
    "            )\n",
    "        ) /  abs(1-((1+LR*sis*1j)/(1+LR**2*sis**2))**k)\n",
    "    ),\n",
    "    'EG_SIM': lambda k:  max(\n",
    "        (\n",
    "            np.cos(np.angle(1-spow(1-LR*sis+LR*sis*1j, k))) -\n",
    "            np.sqrt(\n",
    "                (1-2*LR*smin+2*LR**2*smin**2)**k -\n",
    "                np.sin(np.angle(\n",
    "                    1-spow(1-LR*sis+LR*sis*1j, k)\n",
    "                )) ** 2\n",
    "            )\n",
    "        ) / abs(1-spow(1-LR*sis+LR*sis*1j, k))\n",
    "    )\n",
    "}"
   ]
  },
  {
   "cell_type": "markdown",
   "metadata": {},
   "source": [
    "# GD_ALT"
   ]
  },
  {
   "cell_type": "code",
   "execution_count": 4,
   "metadata": {},
   "outputs": [
    {
     "name": "stderr",
     "output_type": "stream",
     "text": [
      "<ipython-input-4-f6fee4ad5edd>:14: MatplotlibDeprecationWarning: shading='flat' when X and Y have the same dimensions as C is deprecated since 3.3.  Either specify the corners of the quadrilaterals with X and Y, or pass shading='auto', 'nearest' or 'gouraud', or set rcParams['pcolor.shading'].  This will become an error two minor releases later.\n",
      "  plt.pcolormesh(\n"
     ]
    },
    {
     "name": "stdout",
     "output_type": "stream",
     "text": [
      "rmin: 0.6418117802935815, rmax: 0.9999999914846447\n"
     ]
    },
    {
     "data": {
      "image/png": "[encoded data removed]",
      "text/plain": [
       "<Figure size 288x288 with 1 Axes>"
      ]
     },
     "metadata": {
      "needs_background": "light"
     },
     "output_type": "display_data"
    }
   ],
   "source": [
    "GD_ALT_KS = list(range(5, 80, 5))\n",
    "GD_ALT_ALPHAS = list(reversed([x/100 for x in range(5, 95 + 1, 90 // 15)]))\n",
    "GD_ALT_HPS = np.meshgrid(GD_ALT_KS, GD_ALT_ALPHAS)\n",
    "\n",
    "# compute\n",
    "gd_alt_radii = np.array([\n",
    "    gd_alt_radius(k, alpha) for\n",
    "    (k, alpha) in zip(GD_ALT_HPS[0].flatten(), GD_ALT_HPS[1].flatten())\n",
    "]).reshape(GD_ALT_HPS[0].shape)\n",
    "\n",
    "# and plot (matplotlib choses the first color when there is only one value)\n",
    "cmap = matplotlib.colors.ListedColormap([COLORS[0], COLORS[1]])\n",
    "plt.figure(figsize=(4, 4))\n",
    "plt.pcolormesh(\n",
    "    GD_ALT_HPS[0], GD_ALT_HPS[1], gd_alt_radii < 1, \n",
    "    edgecolors='k',\n",
    "    cmap=cmap,\n",
    ")\n",
    "plt.xlabel(r'$k$', fontsize=15)\n",
    "plt.ylabel(r'$\\alpha$', fontsize=15)\n",
    "\n",
    "#\n",
    "handles, labels = plt.gca().get_legend_handles_labels()\n",
    "patch_pos = mpatches.Patch(\n",
    "    color=COLORS[0], \n",
    "    label=r'$\\rho_k(\\alpha)<1$'\n",
    ")\n",
    "patch_neg = mpatches.Patch(\n",
    "    color=COLORS[1],\n",
    "    label=r'$\\rho_k(\\alpha)\\geq1$'\n",
    ")\n",
    "line_suff = mlines.Line2D([0], [0], color=COLORS[3], label='Thm. 6', linewidth=3)\n",
    "\n",
    "handles.append(patch_pos) \n",
    "handles.append(patch_neg) \n",
    "#handles.append(line_suff)\n",
    "\n",
    "# plot the legend\n",
    "plt.legend(\n",
    "    handles=handles, loc='upper center', \n",
    "    bbox_to_anchor=(-0.01, 1.20, 1.0, 0), \n",
    "    ncol=2, fontsize=15, columnspacing=1,\n",
    ")\n",
    "plt.tight_layout(pad=0.1)\n",
    "plt.savefig('./bilinear_sweep_gd_alt.png', format='png', dpi=200)\n",
    "print(f'rmin: {gd_alt_radii.min()}, rmax: {gd_alt_radii.max()}')"
   ]
  },
  {
   "cell_type": "markdown",
   "metadata": {},
   "source": [
    "# GD_SIM"
   ]
  },
  {
   "cell_type": "code",
   "execution_count": 5,
   "metadata": {},
   "outputs": [
    {
     "name": "stderr",
     "output_type": "stream",
     "text": [
      "<ipython-input-5-79eac1bd85ae>:14: MatplotlibDeprecationWarning: shading='flat' when X and Y have the same dimensions as C is deprecated since 3.3.  Either specify the corners of the quadrilaterals with X and Y, or pass shading='auto', 'nearest' or 'gouraud', or set rcParams['pcolor.shading'].  This will become an error two minor releases later.\n",
      "  plt.pcolormesh(\n"
     ]
    },
    {
     "name": "stdout",
     "output_type": "stream",
     "text": [
      "beta1: 6.09, beta2: 37.514\n",
      "=> c: [0.7912922703296353, 0.8805040334283156, 0.8993097944210748, 0.8930392790987423, 0.8603330786306569, 0.7689185514601906, 0.4629918667201008, -1.1749286262903889, -3.638956650736324, -4.137990641887426, -4.638074932663175, -5.139347824807506, -5.641375267247767, -6.143891516596959, -6.646947012114167]\n",
      "=> a: [0.95, 0.89, 0.83, 0.77, 0.71, 0.65, 0.59, 0.53, 0.47, 0.41, 0.35, 0.29, 0.23, 0.17, 0.11, 0.05]\n",
      "=> k: [5, 10, 15, 20, 25, 30, 35, 40, 45, 50, 55, 60, 65, 70, 75]\n"
     ]
    },
    {
     "data": {
      "image/png": "[encoded data removed]",
      "text/plain": [
       "<Figure size 288x288 with 1 Axes>"
      ]
     },
     "metadata": {
      "needs_background": "light"
     },
     "output_type": "display_data"
    }
   ],
   "source": [
    "GD_SIM_KS = list(range(5, 80, 5))\n",
    "GD_SIM_ALPHAS = list(reversed([x/100 for x in range(5, 95 + 1, 90 // 15)]))\n",
    "GD_SIM_HPS = np.meshgrid(GD_SIM_KS, GD_SIM_ALPHAS)\n",
    "\n",
    "gd_sim_improvements = np.array([\n",
    "    1 > gd_sim_radius(k, alpha) for\n",
    "    (k, alpha) in zip(GD_SIM_HPS[0].flatten(), GD_SIM_HPS[1].flatten())\n",
    "]).reshape(GD_SIM_HPS[0].shape)\n",
    "gd_sim_cs = [C['GD_SIM'](k) for k in GD_SIM_KS]\n",
    "\n",
    "edge_colors = [ ]\n",
    "cmap = matplotlib.colors.ListedColormap([COLORS[1], COLORS[0]])\n",
    "plt.figure(figsize=(4, 4))\n",
    "plt.pcolormesh(\n",
    "    GD_SIM_HPS[0], GD_SIM_HPS[1], gd_sim_improvements, \n",
    "    edgecolors='k',\n",
    "    cmap=cmap,\n",
    ")\n",
    "plt.xlabel(r'$k$', fontsize=15)\n",
    "plt.ylabel(r'$\\alpha$', fontsize=15)\n",
    "\n",
    "# where some data has already been plotted to ax\n",
    "handles, labels = plt.gca().get_legend_handles_labels()\n",
    "\n",
    "# manually define a new patch \n",
    "patch_pos = mpatches.Patch(\n",
    "    color=COLORS[0], \n",
    "    label=r'$\\rho_k(\\alpha)<1$'\n",
    ")\n",
    "patch_neg = mpatches.Patch(\n",
    "    color=COLORS[1],\n",
    "    label=r'$\\rho_k(\\alpha)\\geq1$'\n",
    ")\n",
    "line_suff = mlines.Line2D([0], [0], color=COLORS[3], label='Thm. 7', linewidth=3)\n",
    "\n",
    "# handles is a list, so append manual patch\n",
    "handles.append(patch_pos) \n",
    "handles.append(patch_neg) \n",
    "#handles.append(line_suff)\n",
    "\n",
    "# plot the legend\n",
    "plt.legend(\n",
    "    handles=handles, loc='upper center', \n",
    "    bbox_to_anchor=(-0.01, 1.20, 1.0, 0), \n",
    "    ncol=2, fontsize=15, columnspacing=1,\n",
    ")\n",
    "plt.tight_layout(pad=0.1)\n",
    "plt.savefig('./bilinear_sweep_gd_sim.png', format='png', dpi=200)\n",
    "print(f'beta1: {GD_SIM_BETA1}, beta2: {GD_SIM_BETA2}')\n",
    "print(f'=> c: {gd_sim_cs}')\n",
    "print(f'=> a: {GD_SIM_ALPHAS}')\n",
    "print(f'=> k: {GD_SIM_KS}')"
   ]
  },
  {
   "cell_type": "markdown",
   "metadata": {},
   "source": [
    "# PP_SIM"
   ]
  },
  {
   "cell_type": "code",
   "execution_count": 6,
   "metadata": {},
   "outputs": [
    {
     "name": "stderr",
     "output_type": "stream",
     "text": [
      "<ipython-input-6-c87b9cf73d40>:16: MatplotlibDeprecationWarning: shading='flat' when X and Y have the same dimensions as C is deprecated since 3.3.  Either specify the corners of the quadrilaterals with X and Y, or pass shading='auto', 'nearest' or 'gouraud', or set rcParams['pcolor.shading'].  This will become an error two minor releases later.\n",
      "  plt.pcolormesh(\n"
     ]
    },
    {
     "name": "stdout",
     "output_type": "stream",
     "text": [
      "=> beta1: 1, beta2: 97.95\n",
      "=> c: [0.20136786039250618, 0.08069798598520445, 0.054038407564570276, 0.04402563597496977, 0.1074618793654902, 0.2114666490134871, 0.28242476102585523, 0.3632591686497847, 0.45400520323347043, 0.5549581220320206, 0.6672550989793833, 0.7962543581332878, 0.9999999999999906, 0.9999999999999956, 0.9999999999999807]\n",
      "=> a: [0.95, 0.89, 0.83, 0.77, 0.71, 0.65, 0.59, 0.53, 0.47, 0.41, 0.35, 0.29, 0.23, 0.17, 0.11, 0.05]\n",
      "=> k: [5, 13, 21, 29, 37, 45, 53, 61, 69, 77, 85, 93, 101, 109, 117]\n"
     ]
    },
    {
     "data": {
      "image/png": "[encoded data removed]",
      "text/plain": [
       "<Figure size 288x288 with 1 Axes>"
      ]
     },
     "metadata": {
      "needs_background": "light"
     },
     "output_type": "display_data"
    }
   ],
   "source": [
    "PP_SIM_KS = list(range(5, 120 + 1, 120 // 15))\n",
    "PP_SIM_ALPHAS = list(reversed([x/1000 for x in range(50, 950 + 1, 900 // 15)]))\n",
    "PP_SIM_HPS = np.meshgrid(PP_SIM_KS, PP_SIM_ALPHAS)\n",
    "\n",
    "# compute\n",
    "pp_sim_improvements = np.array([\n",
    "    pp_sim_radius(k, 1) > pp_sim_radius(k, alpha) for\n",
    "    (k, alpha) in zip(PP_SIM_HPS[0].flatten(), PP_SIM_HPS[1].flatten())\n",
    "]).reshape(PP_SIM_HPS[0].shape)\n",
    "pp_sim_cs = [C['PP_SIM'](k) for k in PP_SIM_KS]\n",
    "\n",
    "# and plot\n",
    "edge_colors = [ ]\n",
    "cmap = matplotlib.colors.ListedColormap([COLORS[1], COLORS[0]])\n",
    "plt.figure(figsize=(4, 4))\n",
    "plt.pcolormesh(\n",
    "    PP_SIM_HPS[0], PP_SIM_HPS[1], pp_sim_improvements, \n",
    "    edgecolors='k',\n",
    "    cmap=cmap,\n",
    ")\n",
    "plt.xlabel(r'$k$', fontsize=15)\n",
    "plt.ylabel(r'$\\alpha$', fontsize=15)\n",
    "\n",
    "# where some data has already been plotted to ax\n",
    "handles, labels = plt.gca().get_legend_handles_labels()\n",
    "\n",
    "# manually define a new patch \n",
    "patch_pos = mpatches.Patch(\n",
    "    color=COLORS[0], \n",
    "    label=r'$\\rho_k(\\alpha)<\\rho_0^k$'\n",
    ")\n",
    "patch_neg = mpatches.Patch(\n",
    "    color=COLORS[1],\n",
    "    label=r'$\\rho_k(\\alpha)\\geq\\rho_0^k$'\n",
    ")\n",
    "line_suff = mlines.Line2D([0], [0], color=COLORS[3], label='Thm. 8', linewidth=3)\n",
    "\n",
    "# handles is a list, so append manual patch\n",
    "handles.append(patch_pos) \n",
    "handles.append(patch_neg) \n",
    "#handles.append(line_suff)\n",
    "\n",
    "# plot the legend\n",
    "plt.legend(\n",
    "    handles=handles, loc='upper center', \n",
    "    bbox_to_anchor=(-0.01, 1.20, 1.0, 0), \n",
    "    ncol=2, fontsize=15, columnspacing=1,\n",
    ")\n",
    "plt.tight_layout(pad=0.1)\n",
    "plt.savefig('./bilinear_sweep_pp.png', format='png', dpi=200)\n",
    "print(f'=> beta1: {PP_SIM_BETA1}, beta2: {PP_SIM_BETA2}')\n",
    "print(f'=> c: {pp_sim_cs}')\n",
    "print(f'=> a: {PP_SIM_ALPHAS}')\n",
    "print(f'=> k: {PP_SIM_KS}')"
   ]
  },
  {
   "cell_type": "markdown",
   "metadata": {},
   "source": [
    "# EG_SIM"
   ]
  },
  {
   "cell_type": "code",
   "execution_count": 7,
   "metadata": {},
   "outputs": [
    {
     "name": "stderr",
     "output_type": "stream",
     "text": [
      "<ipython-input-7-b5ec719c936b>:16: MatplotlibDeprecationWarning: shading='flat' when X and Y have the same dimensions as C is deprecated since 3.3.  Either specify the corners of the quadrilaterals with X and Y, or pass shading='auto', 'nearest' or 'gouraud', or set rcParams['pcolor.shading'].  This will become an error two minor releases later.\n",
      "  plt.pcolormesh(\n"
     ]
    },
    {
     "name": "stdout",
     "output_type": "stream",
     "text": [
      "beta1: 20.31, beta2: 76.16\n",
      "=> c: [0.9999999999999999, 1.0000000000000004, 0.9386372877575877, 0.88189405962177, 0.8538707136828575, 0.8755727534510303, 0.90238232625363, 0.923621131781686, 0.9404464925478963, 0.95377865415444, 0.9643498736793074, 0.9727451081119008, 0.9794374463024417, 0.9848302882829575, 0.9896994732761079, 0.9979913799116246, 1.0000000000000002]\n",
      "=> a: [0.95, 0.94, 0.93, 0.92, 0.91, 0.9, 0.89, 0.88, 0.87, 0.86, 0.85, 0.84, 0.83, 0.82, 0.81, 0.8]\n",
      "=> k: [15, 19, 23, 27, 31, 35, 39, 43, 47, 51, 55, 59, 63, 67, 71, 75, 79]\n"
     ]
    },
    {
     "data": {
      "image/png": "[encoded data removed]",
      "text/plain": [
       "<Figure size 288x288 with 1 Axes>"
      ]
     },
     "metadata": {
      "needs_background": "light"
     },
     "output_type": "display_data"
    }
   ],
   "source": [
    "EG_SIM_KS = list(range(15, 80 + 1, 65 // 15))\n",
    "EG_SIM_ALPHAS = list(reversed([x/1000 for x in range(800, 950 + 1, 150 // 15)]))\n",
    "EG_SIM_HPS = np.meshgrid(EG_SIM_KS, EG_SIM_ALPHAS)\n",
    "\n",
    "# compute\n",
    "eg_sim_improvements = np.array([\n",
    "    eg_sim_radius(k, 1) > eg_sim_radius(k, alpha) for\n",
    "    (k, alpha) in zip(EG_SIM_HPS[0].flatten(), EG_SIM_HPS[1].flatten())\n",
    "]).reshape(EG_SIM_HPS[0].shape)\n",
    "eg_sim_cs = [C['EG_SIM'](k) for k in EG_SIM_KS]\n",
    "\n",
    "# plot\n",
    "edge_colors = [ ]\n",
    "cmap = matplotlib.colors.ListedColormap([COLORS[1], COLORS[0]])\n",
    "plt.figure(figsize=(4, 4))\n",
    "plt.pcolormesh(\n",
    "    EG_SIM_HPS[0], EG_SIM_HPS[1], eg_sim_improvements, \n",
    "    edgecolors='k',\n",
    "    cmap=cmap,\n",
    ")\n",
    "plt.xlabel(r'$k$', fontsize=15)\n",
    "plt.ylabel(r'$\\alpha$', fontsize=15)\n",
    "\n",
    "# where some data has already been plotted to ax\n",
    "handles, labels = plt.gca().get_legend_handles_labels()\n",
    "\n",
    "# manually define a new patch \n",
    "patch_pos = mpatches.Patch(\n",
    "    color=COLORS[0], \n",
    "    label=r'$\\rho_k(\\alpha)<\\rho_0^k$'\n",
    ")\n",
    "patch_neg = mpatches.Patch(\n",
    "    color=COLORS[1],\n",
    "    label=r'$\\rho_k(\\alpha)\\geq\\rho_0^k$'\n",
    ")\n",
    "line_suff = mlines.Line2D([0], [0], color=COLORS[3], label='Thm. 9', linewidth=3)\n",
    "\n",
    "# handles is a list, so append manual patch\n",
    "handles.append(patch_pos) \n",
    "handles.append(patch_neg) \n",
    "#handles.append(line_suff)\n",
    "\n",
    "# plot the legend\n",
    "plt.legend(\n",
    "    handles=handles, loc='upper center', \n",
    "    bbox_to_anchor=(-0.01, 1.20, 1.0, 0), \n",
    "    ncol=2, fontsize=15, columnspacing=1\n",
    ")\n",
    "plt.tight_layout(pad=0.1)\n",
    "plt.savefig('bilinear_sweep_eg.png', format='png', dpi=200)\n",
    "print(f'beta1: {EG_SIM_BETA1}, beta2: {EG_SIM_BETA2}')\n",
    "print(f'=> c: {eg_sim_cs}')\n",
    "print(f'=> a: {EG_SIM_ALPHAS}')\n",
    "print(f'=> k: {EG_SIM_KS}')"
   ]
  },
  {
   "cell_type": "code",
   "execution_count": 8,
   "metadata": {},
   "outputs": [
    {
     "name": "stderr",
     "output_type": "stream",
     "text": [
      "<ipython-input-8-f6fee4ad5edd>:14: MatplotlibDeprecationWarning: shading='flat' when X and Y have the same dimensions as C is deprecated since 3.3.  Either specify the corners of the quadrilaterals with X and Y, or pass shading='auto', 'nearest' or 'gouraud', or set rcParams['pcolor.shading'].  This will become an error two minor releases later.\n",
      "  plt.pcolormesh(\n"
     ]
    },
    {
     "name": "stdout",
     "output_type": "stream",
     "text": [
      "rmin: 0.6418117802935815, rmax: 0.9999999914846447\n"
     ]
    },
    {
     "data": {
      "image/png": "[encoded data removed]",
      "text/plain": [
       "<Figure size 288x288 with 1 Axes>"
      ]
     },
     "metadata": {
      "needs_background": "light"
     },
     "output_type": "display_data"
    }
   ],
   "source": [
    "GD_ALT_KS = list(range(5, 80, 5))\n",
    "GD_ALT_ALPHAS = list(reversed([x/100 for x in range(5, 95 + 1, 90 // 15)]))\n",
    "GD_ALT_HPS = np.meshgrid(GD_ALT_KS, GD_ALT_ALPHAS)\n",
    "\n",
    "# compute\n",
    "gd_alt_radii = np.array([\n",
    "    gd_alt_radius(k, alpha) for\n",
    "    (k, alpha) in zip(GD_ALT_HPS[0].flatten(), GD_ALT_HPS[1].flatten())\n",
    "]).reshape(GD_ALT_HPS[0].shape)\n",
    "\n",
    "# and plot (matplotlib choses the first color when there is only one value)\n",
    "cmap = matplotlib.colors.ListedColormap([COLORS[0], COLORS[1]])\n",
    "plt.figure(figsize=(4, 4))\n",
    "plt.pcolormesh(\n",
    "    GD_ALT_HPS[0], GD_ALT_HPS[1], gd_alt_radii < 1, \n",
    "    edgecolors='k',\n",
    "    cmap=cmap,\n",
    ")\n",
    "plt.xlabel(r'$k$', fontsize=15)\n",
    "plt.ylabel(r'$\\alpha$', fontsize=15)\n",
    "\n",
    "#\n",
    "handles, labels = plt.gca().get_legend_handles_labels()\n",
    "patch_pos = mpatches.Patch(\n",
    "    color=COLORS[0], \n",
    "    label=r'$\\rho_k(\\alpha)<1$'\n",
    ")\n",
    "patch_neg = mpatches.Patch(\n",
    "    color=COLORS[1],\n",
    "    label=r'$\\rho_k(\\alpha)\\geq1$'\n",
    ")\n",
    "line_suff = mlines.Line2D([0], [0], color=COLORS[3], label='Thm. 6', linewidth=3)\n",
    "\n",
    "handles.append(patch_pos) \n",
    "handles.append(patch_neg) \n",
    "#handles.append(line_suff)\n",
    "\n",
    "# plot the legend\n",
    "plt.legend(\n",
    "    handles=handles, loc='upper center', \n",
    "    bbox_to_anchor=(-0.01, 1.20, 1.0, 0), \n",
    "    ncol=2, fontsize=15, columnspacing=1,\n",
    ")\n",
    "plt.tight_layout(pad=0.1)\n",
    "plt.savefig('./bilinear_sweep_gd_alt.png', format='png', dpi=200)\n",
    "print(f'rmin: {gd_alt_radii.min()}, rmax: {gd_alt_radii.max()}')"
   ]
  }
 ],
 "metadata": {
  "kernelspec": {
   "display_name": "Python 3",
   "language": "python",
   "name": "python3"
  },
  "language_info": {
   "codemirror_mode": {
    "name": "ipython",
    "version": 3
   },
   "file_extension": ".py",
   "mimetype": "text/x-python",
   "name": "python",
   "nbconvert_exporter": "python",
   "pygments_lexer": "ipython3",
   "version": "3.9.5"
  }
 },
 "nbformat": 4,
 "nbformat_minor": 4
}
